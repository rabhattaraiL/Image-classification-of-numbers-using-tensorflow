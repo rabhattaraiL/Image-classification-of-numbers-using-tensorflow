{
 "cells": [
  {
   "cell_type": "code",
   "execution_count": 1,
   "metadata": {},
   "outputs": [],
   "source": [
    "# Importing tensorflow\n",
    "\n",
    "import tensorflow as tf"
   ]
  },
  {
   "cell_type": "code",
   "execution_count": 2,
   "metadata": {},
   "outputs": [],
   "source": [
    "# Importing mnist dataset\n",
    "\n",
    "from tensorflow.keras.datasets import mnist\n",
    "(x_train, y_train), (x_test, y_test) = mnist.load_data()"
   ]
  },
  {
   "cell_type": "code",
   "execution_count": 3,
   "metadata": {},
   "outputs": [
    {
     "name": "stdout",
     "output_type": "stream",
     "text": [
      "X_train shape:  (60000, 28, 28)\n",
      "y_train shape:  (60000,)\n",
      "X_test shape:  (10000, 28, 28)\n",
      "y_test shape:  (10000,)\n"
     ]
    }
   ],
   "source": [
    "# Shape of imported dataset\n",
    "\n",
    "print('X_train shape: ', x_train.shape)\n",
    "print('y_train shape: ', y_train.shape)\n",
    "print('X_test shape: ', x_test.shape)\n",
    "print('y_test shape: ', y_test.shape)"
   ]
  },
  {
   "cell_type": "code",
   "execution_count": 4,
   "metadata": {},
   "outputs": [
    {
     "data": {
      "image/png": "[encoded data removed]",
      "text/plain": [
       "<Figure size 432x288 with 1 Axes>"
      ]
     },
     "metadata": {
      "needs_background": "light"
     },
     "output_type": "display_data"
    }
   ],
   "source": [
    "# Plot an example of the image\n",
    "\n",
    "from matplotlib import pyplot as plt\n",
    "%matplotlib inline\n",
    "\n",
    "plt.imshow(x_train[0], cmap='binary')\n",
    "plt.show()"
   ]
  },
  {
   "cell_type": "code",
   "execution_count": 5,
   "metadata": {},
   "outputs": [
    {
     "data": {
      "text/plain": [
       "5"
      ]
     },
     "execution_count": 5,
     "metadata": {},
     "output_type": "execute_result"
    }
   ],
   "source": [
    "y_train[0]"
   ]
  },
  {
   "cell_type": "code",
   "execution_count": 6,
   "metadata": {},
   "outputs": [
    {
     "name": "stdout",
     "output_type": "stream",
     "text": [
      "{0, 1, 2, 3, 4, 5, 6, 7, 8, 9}\n"
     ]
    }
   ],
   "source": [
    "# Viewing the labels of output class. We can see there is total of 10 output classes\n",
    "\n",
    "print(set(y_train))"
   ]
  },
  {
   "cell_type": "code",
   "execution_count": 7,
   "metadata": {},
   "outputs": [],
   "source": [
    "# Performing One-Hot encoding - Function from keras (to_categorical)\n",
    "# After this encoding, every label will be converted to a list with 10 elements\n",
    "# and the element at index to the corresponding class will be set to 1, rest will be set to 0:\n",
    "from tensorflow.keras.utils import to_categorical\n",
    "\n",
    "# to_categorical helper function helps to automatically encode in One hot encoding\n",
    "y_train_encoded = to_categorical(y_train)\n",
    "y_test_encoded = to_categorical(y_test)"
   ]
  },
  {
   "cell_type": "code",
   "execution_count": 8,
   "metadata": {},
   "outputs": [
    {
     "name": "stdout",
     "output_type": "stream",
     "text": [
      "(60000, 10)\n",
      "(10000, 10)\n"
     ]
    }
   ],
   "source": [
    "# Making sure the encoding is successful\n",
    "\n",
    "print(y_train_encoded.shape)\n",
    "print(y_test_encoded.shape)\n",
    "# So the neural network tries to predict which switch is on out of all\n",
    "# 10 switches, instead of trying to predict a numeric value"
   ]
  },
  {
   "cell_type": "code",
   "execution_count": 9,
   "metadata": {},
   "outputs": [
    {
     "data": {
      "text/plain": [
       "array([0., 0., 0., 0., 0., 1., 0., 0., 0., 0.], dtype=float32)"
      ]
     },
     "execution_count": 9,
     "metadata": {},
     "output_type": "execute_result"
    }
   ],
   "source": [
    "# Displaying encoded labels \n",
    "\n",
    "y_train_encoded[0]"
   ]
  },
  {
   "cell_type": "code",
   "execution_count": 10,
   "metadata": {},
   "outputs": [
    {
     "name": "stdout",
     "output_type": "stream",
     "text": [
      "(60000, 784)\n",
      "(10000, 784)\n"
     ]
    }
   ],
   "source": [
    "# Takes 784 input (28 * 28) and gives 10 output classes\n",
    "\n",
    "import numpy as np\n",
    "x_train_reshaped = np.reshape(x_train, (60000, 784))\n",
    "x_test_reshaped = np.reshape(x_test, (10000, 784))\n",
    "\n",
    "print(x_train_reshaped.shape)\n",
    "print(x_test_reshaped.shape)"
   ]
  },
  {
   "cell_type": "code",
   "execution_count": 11,
   "metadata": {},
   "outputs": [
    {
     "name": "stdout",
     "output_type": "stream",
     "text": [
      "{0, 1, 2, 3, 9, 11, 14, 16, 18, 23, 24, 25, 26, 27, 30, 35, 36, 39, 43, 45, 46, 49, 55, 56, 64, 66, 70, 78, 80, 81, 82, 90, 93, 94, 107, 108, 114, 119, 126, 127, 130, 132, 133, 135, 136, 139, 148, 150, 154, 156, 160, 166, 170, 171, 172, 175, 182, 183, 186, 187, 190, 195, 198, 201, 205, 207, 212, 213, 219, 221, 225, 226, 229, 238, 240, 241, 242, 244, 247, 249, 250, 251, 252, 253, 255}\n"
     ]
    }
   ],
   "source": [
    "print(set(x_train_reshaped[0]))"
   ]
  },
  {
   "cell_type": "code",
   "execution_count": 12,
   "metadata": {},
   "outputs": [],
   "source": [
    "# Computation is usually fast when we normalize these values\n",
    "\n",
    "x_mean = np.mean(x_train_reshaped)\n",
    "x_std = np.mean(x_train_reshaped)\n",
    "\n",
    "epsilon = 1e-10\n",
    "x_train_norm = (x_train_reshaped - x_mean) / (x_std + epsilon)\n",
    "x_test_norm = (x_test_reshaped - x_mean) / (x_std + epsilon)"
   ]
  },
  {
   "cell_type": "code",
   "execution_count": 13,
   "metadata": {},
   "outputs": [
    {
     "name": "stdout",
     "output_type": "stream",
     "text": [
      "{-0.9999999999969986, -0.9099597198922427, 2.781691764402751, 3.0818260314186037, 4.252349672780431, 3.982228832466163, 6.653423808907256, 6.413316395294574, 2.811705191104336, 4.102282539272505, 6.593396955504086, 5.753021007859696, 6.2632492617866475, 1.341047282726656, 5.5729404476501845, 6.143195554980306, 3.1718663115233596, 0.9208593089044614, 4.612510793199455, 5.632967301053355, 5.03269876702165, 0.050469934558487375, -0.5197851727716336, 2.9617723246122627, -0.7298791596827308, 4.582497366497869, 1.1009398691139733, 5.2127793272311616, 5.392859887440673, 6.233235835085062, 1.7012084031456796, -0.21965090575578045, -0.3096911858605364, 0.3506042015743405, 4.162309392675676, 5.783034434561282, 6.203222408383477, 2.9017454712090918, 0.08048336126007269, 0.17052364136482864, 4.13229596597409, 1.4611009895329972, 4.942658486916893, 5.152752473827991, 5.362846460739088, 3.5020140052407984, -0.09959719894943919, -0.9699865732954133, -0.6698523062795602, 0.29057734817116987, -0.5798120261748042, -0.939973146593828, -0.2796777591589511, 0.3806176282759258, 0.6807518952917789, -0.18963747905419515, 4.70255107330421, 6.5633835288025, 1.431087562831412, 2.241450083774215, 3.6820945654503103, 3.0518126047170187, 4.492457086393114, 1.821262109952021, 6.533370102100915, 6.323276115189818, 1.4010741361298265, 2.2114366570726296, 2.421530643983727, 3.4419871518376275, 0.4706579083806818, -0.45975831936846295, 0.9808861623076321, 4.4624436596915285, 1.7912486832504355, 6.5033566753993295, 3.6220677120471394, 0.6507384685901937, -0.24966433245736577, 2.9917857513138477, 4.852618206812138, 5.873074714666038, 6.473343248697744, 2.5715977774916534, 3.8021482722566513}\n"
     ]
    }
   ],
   "source": [
    "print(set(x_train_norm[0]))"
   ]
  },
  {
   "cell_type": "code",
   "execution_count": 14,
   "metadata": {},
   "outputs": [],
   "source": [
    "# We create 2 hidden layers with 128 nodes, where all nodes of a layer\n",
    "# will be completely connected to all nodes of other layer and\n",
    "\n",
    "from tensorflow.keras.models import Sequential\n",
    "from tensorflow.keras.layers import Dense\n",
    "\n",
    "model = Sequential([\n",
    "    # If we use sequential class, we dont need to define input layer separately\n",
    "    # We can use hidden layer\n",
    "    Dense(128, activation='relu', input_shape=(784,)),\n",
    "    Dense(128, activation='relu'),\n",
    "    Dense(10, activation='softmax') # Softmax function gives the probability score for various nodes, in this case 10 nodes for output layer, which sum up to 1\n",
    "])"
   ]
  },
  {
   "cell_type": "code",
   "execution_count": 15,
   "metadata": {},
   "outputs": [
    {
     "name": "stdout",
     "output_type": "stream",
     "text": [
      "Model: \"sequential\"\n",
      "_________________________________________________________________\n",
      "Layer (type)                 Output Shape              Param #   \n",
      "=================================================================\n",
      "dense (Dense)                (None, 128)               100480    \n",
      "_________________________________________________________________\n",
      "dense_1 (Dense)              (None, 128)               16512     \n",
      "_________________________________________________________________\n",
      "dense_2 (Dense)              (None, 10)                1290      \n",
      "=================================================================\n",
      "Total params: 118,282\n",
      "Trainable params: 118,282\n",
      "Non-trainable params: 0\n",
      "_________________________________________________________________\n"
     ]
    }
   ],
   "source": [
    "model.compile(\n",
    "    optimizer='sgd',\n",
    "    loss='categorical_crossentropy',\n",
    "    metrics = ['accuracy']\n",
    ")\n",
    "\n",
    "model.summary()\n",
    "# Ouput\n",
    "# Each node of dense_2(Dense) layer is connected to each node of the previous layer dense_1(Dense)\n",
    "# so we have 128 * 10 = 1280 connections + biases for 10 nodes(10) = 1290 "
   ]
  },
  {
   "cell_type": "code",
   "execution_count": 16,
   "metadata": {},
   "outputs": [
    {
     "name": "stdout",
     "output_type": "stream",
     "text": [
      "Train on 60000 samples\n",
      "Epoch 1/3\n",
      "60000/60000 [==============================] - 5s 80us/sample - loss: 0.2830 - accuracy: 0.9138\n",
      "Epoch 2/3\n",
      "60000/60000 [==============================] - 4s 69us/sample - loss: 0.1317 - accuracy: 0.9603\n",
      "Epoch 3/3\n",
      "60000/60000 [==============================] - 4s 74us/sample - loss: 0.0959 - accuracy: 0.9705\n"
     ]
    },
    {
     "data": {
      "text/plain": [
       "<tensorflow.python.keras.callbacks.History at 0x2994835d588>"
      ]
     },
     "execution_count": 16,
     "metadata": {},
     "output_type": "execute_result"
    }
   ],
   "source": [
    "model.fit(x_train_norm, y_train_encoded, epochs=3)"
   ]
  },
  {
   "cell_type": "code",
   "execution_count": 17,
   "metadata": {},
   "outputs": [
    {
     "name": "stdout",
     "output_type": "stream",
     "text": [
      "10000/10000 [==============================] - 1s 61us/sample - loss: 0.1185 - accuracy: 0.9630\n",
      "96.29999995231628\n"
     ]
    }
   ],
   "source": [
    "loss, accuracy = model.evaluate(x_test_norm, y_test_encoded)\n",
    "# evaluate takes the model state as it is and does a forward pass to understand\n",
    "# prediction of model and compares that with actual labels (y_test_encoded)\n",
    "print(accuracy*100)"
   ]
  },
  {
   "cell_type": "code",
   "execution_count": 18,
   "metadata": {},
   "outputs": [
    {
     "name": "stdout",
     "output_type": "stream",
     "text": [
      "Shape of preds: (10000, 10)\n"
     ]
    }
   ],
   "source": [
    "preds = model.predict(x_test_norm)\n",
    "print('Shape of preds:', preds.shape)"
   ]
  },
  {
   "cell_type": "code",
   "execution_count": 19,
   "metadata": {},
   "outputs": [
    {
     "data": {
      "image/png": "[encoded data removed]",
      "text/plain": [
       "<Figure size 864x864 with 25 Axes>"
      ]
     },
     "metadata": {},
     "output_type": "display_data"
    }
   ],
   "source": [
    "plt.figure(figsize=(12, 12))\n",
    "start_index=0\n",
    "for i in range(25):\n",
    "    plt.subplot(5,5,i+1)\n",
    "    plt.grid(False)\n",
    "    plt.xticks([])\n",
    "    plt.yticks([])\n",
    "    \n",
    "# Highest prob score is the final output so we need to do some post processing\n",
    "    pred =np.argmax(preds[start_index+i])\n",
    "    gt = y_test[start_index+i]\n",
    "    \n",
    "    col='g'\n",
    "    if pred != gt:\n",
    "        col='r'\n",
    "        \n",
    "    plt.xlabel('i={}, pred={}, gt={}'.format(start_index+i, pred, gt), color=col)\n",
    "    plt.imshow(x_test[start_index+i], cmap='binary') # we cannot use normalize to show pics since pixel values are supposed to be from 0 to 255 also shape \n",
    "    # needs to be 28 * 28\n",
    "plt.show()\n"
   ]
  },
  {
   "cell_type": "code",
   "execution_count": 20,
   "metadata": {},
   "outputs": [
    {
     "data": {
      "image/png": "[encoded data removed]",
      "text/plain": [
       "<Figure size 432x288 with 1 Axes>"
      ]
     },
     "metadata": {
      "needs_background": "light"
     },
     "output_type": "display_data"
    }
   ],
   "source": [
    "# Softmax probability outputs\n",
    "plt.plot(preds[7])\n",
    "plt.show()\n",
    "\n",
    "# We can see that for i = 7, the actual value is 9 and the graph below shows the probability\n",
    "# as 1 for i = 7"
   ]
  }
 ],
 "metadata": {
  "kernelspec": {
   "display_name": "Python 3",
   "language": "python",
   "name": "python3"
  },
  "language_info": {
   "codemirror_mode": {
    "name": "ipython",
    "version": 3
   },
   "file_extension": ".py",
   "mimetype": "text/x-python",
   "name": "python",
   "nbconvert_exporter": "python",
   "pygments_lexer": "ipython3",
   "version": "3.7.9"
  }
 },
 "nbformat": 4,
 "nbformat_minor": 4
}
